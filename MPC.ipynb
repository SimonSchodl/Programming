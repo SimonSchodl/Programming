{
 "cells": [
  {
   "cell_type": "code",
   "execution_count": 2,
   "metadata": {},
   "outputs": [
    {
     "name": "stdout",
     "output_type": "stream",
     "text": [
      "Fuel Cell Info:\n",
      "Power Output: 100 kW\n",
      "Efficiency: 50 %\n",
      "Fuel Type: Hydrogen\n",
      "Energy Output for 5 hours: 500 kWh\n",
      "Fuel Consumption for 5 hours: 1000.0 units\n"
     ]
    }
   ],
   "source": [
    "class FuelCell:\n",
    "    def __init__(self, power_output, efficiency, fuel_type):\n",
    "        self.power_output = power_output  # in kW\n",
    "        self.efficiency = efficiency  # in percentage\n",
    "        self.fuel_type = fuel_type  # type of fuel used\n",
    "\n",
    "    def calculate_energy_output(self, hours):\n",
    "        \"\"\"\n",
    "        Calculate the energy output over a given number of hours.\n",
    "        Energy output is calculated as power output multiplied by hours.\n",
    "        \"\"\"\n",
    "        return self.power_output * hours\n",
    "\n",
    "    def calculate_fuel_consumption(self, hours):\n",
    "        \"\"\"\n",
    "        Calculate the fuel consumption over a given number of hours.\n",
    "        Fuel consumption is calculated based on power output, efficiency, and hours.\n",
    "        \"\"\"\n",
    "        energy_output = self.calculate_energy_output(hours)\n",
    "        fuel_consumption = energy_output / (self.efficiency / 100)\n",
    "        return fuel_consumption\n",
    "\n",
    "    def display_info(self):\n",
    "        \"\"\"\n",
    "        Display the information about the fuel cell.\n",
    "        \"\"\"\n",
    "        print(f\"Fuel Cell Info:\")\n",
    "        print(f\"Power Output: {self.power_output} kW\")\n",
    "        print(f\"Efficiency: {self.efficiency} %\")\n",
    "        print(f\"Fuel Type: {self.fuel_type}\")\n",
    "\n",
    "# Example usage\n",
    "fuel_cell = FuelCell(power_output=100, efficiency=50, fuel_type=\"Hydrogen\")\n",
    "fuel_cell.display_info()\n",
    "print(f\"Energy Output for 5 hours: {fuel_cell.calculate_energy_output(5)} kWh\")\n",
    "print(f\"Fuel Consumption for 5 hours: {fuel_cell.calculate_fuel_consumption(5)} units\")"
   ]
  },
  {
   "cell_type": "code",
   "execution_count": 3,
   "metadata": {},
   "outputs": [
    {
     "data": {
      "text/plain": [
       "<function __main__.FuelCell.calculate_energy_output(self, hours)>"
      ]
     },
     "execution_count": 3,
     "metadata": {},
     "output_type": "execute_result"
    }
   ],
   "source": [
    "FuelCell.calculate_energy_output"
   ]
  },
  {
   "cell_type": "code",
   "execution_count": null,
   "metadata": {},
   "outputs": [],
   "source": []
  }
 ],
 "metadata": {
  "kernelspec": {
   "display_name": "Test_Enviroment",
   "language": "python",
   "name": "python3"
  },
  "language_info": {
   "codemirror_mode": {
    "name": "ipython",
    "version": 3
   },
   "file_extension": ".py",
   "mimetype": "text/x-python",
   "name": "python",
   "nbconvert_exporter": "python",
   "pygments_lexer": "ipython3",
   "version": "3.11.11"
  }
 },
 "nbformat": 4,
 "nbformat_minor": 2
}
